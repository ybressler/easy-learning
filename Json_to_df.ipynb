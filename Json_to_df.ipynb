{
  "nbformat": 4,
  "nbformat_minor": 0,
  "metadata": {
    "colab": {
      "name": "Json to df.ipynb",
      "version": "0.3.2",
      "provenance": [],
      "include_colab_link": true
    },
    "kernelspec": {
      "name": "python3",
      "display_name": "Python 3"
    }
  },
  "cells": [
    {
      "cell_type": "markdown",
      "metadata": {
        "id": "view-in-github",
        "colab_type": "text"
      },
      "source": [
        "<a href=\"https://colab.research.google.com/github/ybressler/easy-learning/blob/master/Json_to_df.ipynb\" target=\"_parent\"><img src=\"https://colab.research.google.com/assets/colab-badge.svg\" alt=\"Open In Colab\"/></a>"
      ]
    },
    {
      "metadata": {
        "id": "78VkTvoQ_u4X",
        "colab_type": "text"
      },
      "cell_type": "markdown",
      "source": [
        "# Converting Json to df formats:\n",
        "```\n",
        "Problem Posed:\n",
        "\n",
        "Anyone have any experience parsing a column of a dataframe that is in a json format.  I ideally want to make every key into it's own column and then the value into the value for that row for the key.  Everything I'm finding online is about parsing a json file but this is just a dataframe with a column in json format.\n",
        "```"
      ]
    },
    {
      "metadata": {
        "id": "fE381CQkAKxH",
        "colab_type": "text"
      },
      "cell_type": "markdown",
      "source": [
        "## Sample solution:"
      ]
    },
    {
      "metadata": {
        "id": "iuJ2wghsAKG_",
        "colab_type": "code",
        "colab": {
          "base_uri": "https://localhost:8080/",
          "height": 85
        },
        "outputId": "16346ca3-8eaf-4135-a798-9bd7232ddc5d"
      },
      "cell_type": "code",
      "source": [
        "import pandas as pd\n",
        "\n",
        "dict_use = dict([('Col_'+str(i), {'a':i,'b':i*2,'c': str(i)*i}) for i in range(1,5)])\n",
        "\n",
        "dict_use\n",
        "# Print out should read:\n",
        "# {Col_1: {'a': 1, 'b': 2, 'c': '1'},\n",
        "# Col_2: {'a': 2, 'b': 4, 'c': '22'},\n",
        "# Col_3: {'a': 3, 'b': 6, 'c': '333'},\n",
        "# Col_4: {'a': 4, 'b': 8, 'c': '4444'}}"
      ],
      "execution_count": 1,
      "outputs": [
        {
          "output_type": "execute_result",
          "data": {
            "text/plain": [
              "{'Col_1': {'a': 1, 'b': 2, 'c': '1'},\n",
              " 'Col_2': {'a': 2, 'b': 4, 'c': '22'},\n",
              " 'Col_3': {'a': 3, 'b': 6, 'c': '333'},\n",
              " 'Col_4': {'a': 4, 'b': 8, 'c': '4444'}}"
            ]
          },
          "metadata": {
            "tags": []
          },
          "execution_count": 1
        }
      ]
    },
    {
      "metadata": {
        "id": "QLc9GKjTAsmr",
        "colab_type": "code",
        "colab": {
          "base_uri": "https://localhost:8080/",
          "height": 85
        },
        "outputId": "62c830ee-1df9-4a85-c20f-f029bf4af96c"
      },
      "cell_type": "code",
      "source": [
        "df = pd.DataFrame(dict_use)\n",
        "print(df)\n",
        "\n",
        "# Print out should read:\n",
        "#   Col_1 Col_2 Col_3 Col_4\n",
        "# a     1     2     3     4\n",
        "# b     2     4     6     8\n",
        "# c     1    22   333  4444"
      ],
      "execution_count": 2,
      "outputs": [
        {
          "output_type": "stream",
          "text": [
            "  Col_1 Col_2 Col_3 Col_4\n",
            "a     1     2     3     4\n",
            "b     2     4     6     8\n",
            "c     1    22   333  4444\n"
          ],
          "name": "stdout"
        }
      ]
    },
    {
      "metadata": {
        "id": "_Cw94UCrAsvr",
        "colab_type": "code",
        "colab": {}
      },
      "cell_type": "code",
      "source": [
        ""
      ],
      "execution_count": 0,
      "outputs": []
    },
    {
      "metadata": {
        "id": "QnOvGlcWA0hg",
        "colab_type": "text"
      },
      "cell_type": "markdown",
      "source": [
        "## Actual Solution:"
      ]
    },
    {
      "metadata": {
        "id": "MectdaN5A4xI",
        "colab_type": "code",
        "colab": {
          "base_uri": "https://localhost:8080/",
          "height": 34
        },
        "outputId": "6f764973-5976-487f-88d8-1986b63e6b42"
      },
      "cell_type": "code",
      "source": [
        "dict_actual = [{\"key\": \"user_agent\", \"value\": \"X\"},\n",
        "               {\"key\": \"language\", \"value\": \"en-US\"},\n",
        "               {\"key\": \"color_depth\",\"value\": \"24\"}]\n",
        "\n",
        "# what is the data format?\n",
        "print(type(dict_actual))\n",
        "# Output:\n",
        "# <class 'list'>"
      ],
      "execution_count": 3,
      "outputs": [
        {
          "output_type": "stream",
          "text": [
            "<class 'list'>\n"
          ],
          "name": "stdout"
        }
      ]
    },
    {
      "metadata": {
        "id": "SKL-_BbBAOxD",
        "colab_type": "code",
        "colab": {
          "base_uri": "https://localhost:8080/",
          "height": 68
        },
        "outputId": "f2c6abba-3703-4b6a-fef0-6d530f14547b"
      },
      "cell_type": "code",
      "source": [
        "df = pd.DataFrame(dict_actual).T\n",
        "print(df)\n",
        "\n",
        "# Output:\n",
        "#                 0         1            2\n",
        "# key    user_agent  language  color_depth\n",
        "# value           X     en-US           24"
      ],
      "execution_count": 4,
      "outputs": [
        {
          "output_type": "stream",
          "text": [
            "                0         1            2\n",
            "key    user_agent  language  color_depth\n",
            "value           X     en-US           24\n"
          ],
          "name": "stdout"
        }
      ]
    },
    {
      "metadata": {
        "id": "Iput5sydAO3v",
        "colab_type": "code",
        "colab": {
          "base_uri": "https://localhost:8080/",
          "height": 51
        },
        "outputId": "cde700ae-45f7-40e8-f3fd-f2b4f90bfff2"
      },
      "cell_type": "code",
      "source": [
        "# Set the column labels to equal the values in the 1st row (index location 0):\n",
        "df.columns = df.iloc[0]\n",
        "df.reset_index(drop=True, inplace = True)\n",
        "\n",
        "df = df.reindex(df.index.drop(0))\n",
        "print(df)\n",
        "# Ouput:\n",
        "# key user_agent language color_depth\n",
        "# 1            X    en-US          24"
      ],
      "execution_count": 5,
      "outputs": [
        {
          "output_type": "stream",
          "text": [
            "key user_agent language color_depth\n",
            "1            X    en-US          24\n"
          ],
          "name": "stdout"
        }
      ]
    },
    {
      "metadata": {
        "id": "l20JOhybCzHQ",
        "colab_type": "code",
        "colab": {
          "base_uri": "https://localhost:8080/",
          "height": 80
        },
        "outputId": "4ca36c35-26cf-4c6d-eaeb-7f7ead6a17c6"
      },
      "cell_type": "code",
      "source": [
        "df"
      ],
      "execution_count": 6,
      "outputs": [
        {
          "output_type": "execute_result",
          "data": {
            "text/html": [
              "<div>\n",
              "<style scoped>\n",
              "    .dataframe tbody tr th:only-of-type {\n",
              "        vertical-align: middle;\n",
              "    }\n",
              "\n",
              "    .dataframe tbody tr th {\n",
              "        vertical-align: top;\n",
              "    }\n",
              "\n",
              "    .dataframe thead th {\n",
              "        text-align: right;\n",
              "    }\n",
              "</style>\n",
              "<table border=\"1\" class=\"dataframe\">\n",
              "  <thead>\n",
              "    <tr style=\"text-align: right;\">\n",
              "      <th>key</th>\n",
              "      <th>user_agent</th>\n",
              "      <th>language</th>\n",
              "      <th>color_depth</th>\n",
              "    </tr>\n",
              "  </thead>\n",
              "  <tbody>\n",
              "    <tr>\n",
              "      <th>1</th>\n",
              "      <td>X</td>\n",
              "      <td>en-US</td>\n",
              "      <td>24</td>\n",
              "    </tr>\n",
              "  </tbody>\n",
              "</table>\n",
              "</div>"
            ],
            "text/plain": [
              "key user_agent language color_depth\n",
              "1            X    en-US          24"
            ]
          },
          "metadata": {
            "tags": []
          },
          "execution_count": 6
        }
      ]
    }
  ]
}