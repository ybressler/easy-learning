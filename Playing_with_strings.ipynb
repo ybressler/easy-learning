{
  "nbformat": 4,
  "nbformat_minor": 0,
  "metadata": {
    "colab": {
      "name": "Playing with strings.ipynb",
      "version": "0.3.2",
      "provenance": [],
      "collapsed_sections": [
        "FvA0KR0jssBx"
      ],
      "include_colab_link": true
    },
    "kernelspec": {
      "name": "python3",
      "display_name": "Python 3"
    }
  },
  "cells": [
    {
      "cell_type": "markdown",
      "metadata": {
        "id": "view-in-github",
        "colab_type": "text"
      },
      "source": [
        "<a href=\"https://colab.research.google.com/github/ybressler/easy-learning/blob/master/Playing_with_strings.ipynb\" target=\"_parent\"><img src=\"https://colab.research.google.com/assets/colab-badge.svg\" alt=\"Open In Colab\"/></a>"
      ]
    },
    {
      "metadata": {
        "id": "DzJjDKzPscR0",
        "colab_type": "code",
        "colab": {}
      },
      "cell_type": "code",
      "source": [
        "# This is a comment, machine won't read this as code"
      ],
      "execution_count": 0,
      "outputs": []
    },
    {
      "metadata": {
        "id": "FvA0KR0jssBx",
        "colab_type": "text"
      },
      "cell_type": "markdown",
      "source": [
        "This is a text block where you can create guides, menus or other neat things!\n",
        "\n",
        "![comic of a programer](http://devcv.me/wp-content/uploads/2013/01/vNJXj.jpg)\n",
        "\n",
        "---\n",
        "\n",
        "```\n",
        "x = 10\n",
        "print(x)\n",
        "```\n",
        "\n",
        "---\n",
        "\n",
        "# Next Section"
      ]
    },
    {
      "metadata": {
        "id": "QDzCU7CetIv5",
        "colab_type": "code",
        "colab": {}
      },
      "cell_type": "code",
      "source": [
        "x = 10"
      ],
      "execution_count": 0,
      "outputs": []
    },
    {
      "metadata": {
        "id": "F7h-1gD3tUIN",
        "colab_type": "code",
        "outputId": "7678f6d8-74f2-47e0-82e2-6b2e3943aebf",
        "colab": {
          "base_uri": "https://localhost:8080/",
          "height": 34
        }
      },
      "cell_type": "code",
      "source": [
        "print(x)"
      ],
      "execution_count": 0,
      "outputs": [
        {
          "output_type": "stream",
          "text": [
            "10\n"
          ],
          "name": "stdout"
        }
      ]
    },
    {
      "metadata": {
        "id": "pwd3b_pZsf0T",
        "colab_type": "code",
        "outputId": "7e77aa50-aa84-49b7-d1f1-1b568749cc1b",
        "colab": {
          "base_uri": "https://localhost:8080/",
          "height": 34
        }
      },
      "cell_type": "code",
      "source": [
        "type(x)"
      ],
      "execution_count": 0,
      "outputs": [
        {
          "output_type": "execute_result",
          "data": {
            "text/plain": [
              "int"
            ]
          },
          "metadata": {
            "tags": []
          },
          "execution_count": 7
        }
      ]
    },
    {
      "metadata": {
        "id": "sTEW7sY6tYqw",
        "colab_type": "code",
        "colab": {}
      },
      "cell_type": "code",
      "source": [
        "x = 'hello world'"
      ],
      "execution_count": 0,
      "outputs": []
    },
    {
      "metadata": {
        "id": "1s4NYbN6tavz",
        "colab_type": "code",
        "outputId": "77af73db-3aac-4581-d526-6acbd3a77fe5",
        "colab": {
          "base_uri": "https://localhost:8080/",
          "height": 51
        }
      },
      "cell_type": "code",
      "source": [
        "print(x)\n",
        "\n",
        "print('type is {}'.format(type(x)))"
      ],
      "execution_count": 0,
      "outputs": [
        {
          "output_type": "stream",
          "text": [
            "hello world\n",
            "type is <class 'str'>\n"
          ],
          "name": "stdout"
        }
      ]
    },
    {
      "metadata": {
        "id": "JN8--SCQtjAF",
        "colab_type": "code",
        "outputId": "c82ce031-77a4-405d-9a45-ba7eb19e69ab",
        "colab": {
          "base_uri": "https://localhost:8080/",
          "height": 34
        }
      },
      "cell_type": "code",
      "source": [
        "# The split function converts the string to a list of words, split by their spaces (as default)\n",
        "x.split()"
      ],
      "execution_count": 0,
      "outputs": [
        {
          "output_type": "execute_result",
          "data": {
            "text/plain": [
              "['hello', 'world']"
            ]
          },
          "metadata": {
            "tags": []
          },
          "execution_count": 14
        }
      ]
    },
    {
      "metadata": {
        "id": "Dhq71aiutqgV",
        "colab_type": "code",
        "outputId": "ce626348-e2e3-4ce7-84c2-e5792dd0923a",
        "colab": {
          "base_uri": "https://localhost:8080/",
          "height": 34
        }
      },
      "cell_type": "code",
      "source": [
        "# Acccess the first item by indexing it:\n",
        "print(x.split()[0])"
      ],
      "execution_count": 0,
      "outputs": [
        {
          "output_type": "stream",
          "text": [
            "hello\n"
          ],
          "name": "stdout"
        }
      ]
    },
    {
      "metadata": {
        "id": "3dZ2JmRQtuIQ",
        "colab_type": "code",
        "outputId": "3646aefa-2da9-4eb0-d4e0-a8a3bdfec8d2",
        "colab": {
          "base_uri": "https://localhost:8080/",
          "height": 34
        }
      },
      "cell_type": "code",
      "source": [
        "# You can access all items by doing a quick loop\n",
        "z = [x for x in x.split()]\n",
        "print(z)"
      ],
      "execution_count": 0,
      "outputs": [
        {
          "output_type": "stream",
          "text": [
            "['hello', 'world']\n"
          ],
          "name": "stdout"
        }
      ]
    },
    {
      "metadata": {
        "id": "J4jsW19jtY0K",
        "colab_type": "code",
        "outputId": "bbc51038-390a-45aa-e398-c77132c07a58",
        "colab": {
          "base_uri": "https://localhost:8080/",
          "height": 34
        }
      },
      "cell_type": "code",
      "source": [
        "# Access the items but do something to them:\n",
        "z = [x.title()+'!' for x in x.split()]\n",
        "print(z)"
      ],
      "execution_count": 0,
      "outputs": [
        {
          "output_type": "stream",
          "text": [
            "['Hello!', 'World!']\n"
          ],
          "name": "stdout"
        }
      ]
    },
    {
      "metadata": {
        "id": "fuhdnEOMu9DZ",
        "colab_type": "code",
        "outputId": "e1176f55-4a03-4e4e-aa13-dcfcc88fdad7",
        "colab": {
          "base_uri": "https://localhost:8080/",
          "height": 34
        }
      },
      "cell_type": "code",
      "source": [
        "z = [x.upper()+'!' for x in x.split()]\n",
        "print(z)"
      ],
      "execution_count": 0,
      "outputs": [
        {
          "output_type": "stream",
          "text": [
            "['HELLO!', 'WORLD!']\n"
          ],
          "name": "stdout"
        }
      ]
    },
    {
      "metadata": {
        "id": "ULpnlrBLu-LK",
        "colab_type": "code",
        "outputId": "119cfad4-565a-4157-f91a-5727ef6eec3c",
        "colab": {
          "base_uri": "https://localhost:8080/",
          "height": 34
        }
      },
      "cell_type": "code",
      "source": [
        "# Merge the items with a join function\n",
        "# place the connecting string between the quotes at the beginning\n",
        "# place the items to be joined in the join: ''.join(XXXX) \n",
        "z = ''.join([x.upper()+'!' for x in x.split()])\n",
        "print(z)"
      ],
      "execution_count": 0,
      "outputs": [
        {
          "output_type": "stream",
          "text": [
            "HELLO!WORLD!\n"
          ],
          "name": "stdout"
        }
      ]
    },
    {
      "metadata": {
        "id": "rWyDgSG5vNDj",
        "colab_type": "code",
        "outputId": "a31edae0-5d3a-4a29-d60f-9e5927a33405",
        "colab": {
          "base_uri": "https://localhost:8080/",
          "height": 34
        }
      },
      "cell_type": "code",
      "source": [
        "# Sep by a space\n",
        "z = ' '.join([x.upper()+'!' for x in x.split()])\n",
        "print(z)"
      ],
      "execution_count": 0,
      "outputs": [
        {
          "output_type": "stream",
          "text": [
            "HELLO! WORLD!\n"
          ],
          "name": "stdout"
        }
      ]
    },
    {
      "metadata": {
        "id": "d_0eFVkMvP1-",
        "colab_type": "code",
        "outputId": "a43bcf8f-1c14-4537-9099-1c63704aa4a9",
        "colab": {
          "base_uri": "https://localhost:8080/",
          "height": 51
        }
      },
      "cell_type": "code",
      "source": [
        "# Now do more stuff\n",
        "z = '\\n'.join([x.upper()+'!' for x in x.split()])\n",
        "print(z)"
      ],
      "execution_count": 0,
      "outputs": [
        {
          "output_type": "stream",
          "text": [
            "HELLO!\n",
            "WORLD!\n"
          ],
          "name": "stdout"
        }
      ]
    },
    {
      "metadata": {
        "id": "gySLZPKQvlqm",
        "colab_type": "code",
        "outputId": "41b0b378-faf2-4c3d-b8f8-b9a035e83ef8",
        "colab": {
          "base_uri": "https://localhost:8080/",
          "height": 34
        }
      },
      "cell_type": "code",
      "source": [
        "# Now do more stuff\n",
        "z = 3*' '.join([x.upper()+'!' for x in x.split()])\n",
        "print(z)"
      ],
      "execution_count": 0,
      "outputs": [
        {
          "output_type": "stream",
          "text": [
            "HELLO! WORLD!HELLO! WORLD!HELLO! WORLD!\n"
          ],
          "name": "stdout"
        }
      ]
    },
    {
      "metadata": {
        "id": "x3B8iqcvwDO_",
        "colab_type": "text"
      },
      "cell_type": "markdown",
      "source": [
        "# Another Section"
      ]
    },
    {
      "metadata": {
        "id": "ysmTZJA-wE98",
        "colab_type": "code",
        "colab": {}
      },
      "cell_type": "code",
      "source": [
        "# Do what you want to do next!"
      ],
      "execution_count": 0,
      "outputs": []
    },
    {
      "metadata": {
        "id": "r7dmontvwI2v",
        "colab_type": "code",
        "colab": {}
      },
      "cell_type": "code",
      "source": [
        ""
      ],
      "execution_count": 0,
      "outputs": []
    }
  ]
}